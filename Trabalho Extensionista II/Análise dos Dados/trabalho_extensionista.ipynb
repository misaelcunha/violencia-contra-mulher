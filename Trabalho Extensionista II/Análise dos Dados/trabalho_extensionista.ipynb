{
 "cells": [
  {
   "cell_type": "markdown",
   "metadata": {},
   "source": [
    "## Importação Biblioteca e Leitura dos Dados"
   ]
  },
  {
   "cell_type": "code",
   "execution_count": 1,
   "metadata": {},
   "outputs": [],
   "source": [
    "import pandas as pd\n",
    "\n",
    "dados_violencia_2022 = pd.read_csv('Dados/violencia_domestica_2022.csv', sep=';')\n",
    "dados_violencia_2023 = pd.read_csv('Dados/violencia_domestica_2023.csv', sep=';')\n",
    "dados_feminicidio_2022 = pd.read_csv('Dados/feminicidio_2022.csv', sep=';')\n",
    "dados_feminicidio_2023 = pd.read_csv('Dados/feminicidio_2023.csv', sep=';')"
   ]
  },
  {
   "cell_type": "markdown",
   "metadata": {},
   "source": [
    "## Tratamento das Colunas"
   ]
  },
  {
   "cell_type": "code",
   "execution_count": 2,
   "metadata": {},
   "outputs": [],
   "source": [
    "dados_violencia_2023.rename(columns={'rmbh':'Local', 'mes':'Mês', 'natureza_delito':'Natureza do Delito', 'tentado_consumado':'Tentado/Consumado',\n",
    "                                     'qtde_vitimas':'Quantidade de Vítimas'}, inplace=True)\n",
    "dados_violencia_2023 = dados_violencia_2023[['Mês', 'Local', 'Natureza do Delito', 'Tentado/Consumado', 'Quantidade de Vítimas']]\n",
    "\n",
    "dados_violencia_2022.rename(columns={'rmbh':'Local', 'mes':'Mês', 'natureza_delito':'Natureza do Delito', 'tentado_consumado':'Tentado/Consumado',\n",
    "                                     'qtde_vitimas':'Quantidade de Vítimas'}, inplace=True)\n",
    "dados_violencia_2022 = dados_violencia_2022[['Mês', 'Local', 'Natureza do Delito', 'Tentado/Consumado', 'Quantidade de Vítimas']]\n",
    "\n",
    "dados_feminicidio_2022.rename(columns={'municipio_fato':'Município', 'mes':'Mês', 'tentado_consumado':'Tentado/Consumado', 'qtde_vitimas':'Quantidade de Vítimas'}, inplace=True)\n",
    "dados_feminicidio_2023.rename(columns={'municipio_fato':'Município', 'mes':'Mês', 'tentado_consumado':'Tentado/Consumado', 'qtde_vitimas':'Quantidade de Vítimas'}, inplace=True)"
   ]
  },
  {
   "cell_type": "code",
   "execution_count": 3,
   "metadata": {},
   "outputs": [],
   "source": [
    "dados_violencia_2022['Natureza do Delito'].replace({'AMEACA':'AMEAÇA', 'HOMICIDIO':'FEMINICÍDIO', 'IMPORTUNACAO SEXUAL':'IMPORTUNAÇÃO SEXUAL', 'LESAO CORPORAL':'LESÃO CORPORAL'}, inplace=True)\n",
    "dados_violencia_2023['Natureza do Delito'].replace({'AMEACA':'AMEAÇA', 'HOMICIDIO':'FEMINICÍDIO', 'IMPORTUNACAO SEXUAL':'IMPORTUNAÇÃO SEXUAL', 'LESAO CORPORAL':'LESÃO CORPORAL'}, inplace=True)\n",
    "dados_violencia_2022['Local'].replace({'3) Interior de MG':'Interior de MG', '1) Belo Horizonte':'Belo Horizonte', '2) RMBH (sem BH':'Interior de MG'}, inplace=True)\n",
    "dados_violencia_2023['Local'].replace({'3) Interior de MG':'Interior de MG', '1) Belo Horizonte':'Belo Horizonte', '2) RMBH (sem BH':'Interior de MG'}, inplace=True)\n",
    "\n",
    "dados_feminicidio_2022 = dados_feminicidio_2022[['Município', 'Mês', 'Tentado/Consumado', 'Quantidade de Vítimas']]\n",
    "dados_feminicidio_2023 = dados_feminicidio_2023[['Município', 'Mês', 'Tentado/Consumado', 'Quantidade de Vítimas']]"
   ]
  },
  {
   "cell_type": "code",
   "execution_count": 4,
   "metadata": {},
   "outputs": [],
   "source": [
    "dados_violencia_2022 = dados_violencia_2022[dados_violencia_2022['Natureza do Delito'].isin(['AMEAÇA', 'FEMINICÍDIO', 'IMPORTUNAÇÃO SEXUAL', 'LESÃO CORPORAL', 'ESTUPRO'])]\n",
    "\n",
    "dados_violencia_2023 = dados_violencia_2023[dados_violencia_2023['Natureza do Delito'].isin(['AMEAÇA', 'FEMINICÍDIO', 'IMPORTUNAÇÃO SEXUAL', 'LESÃO CORPORAL', 'ESTUPRO'])]"
   ]
  },
  {
   "cell_type": "code",
   "execution_count": 5,
   "metadata": {},
   "outputs": [],
   "source": [
    "dados_violencia_consumados_2022 = dados_violencia_2022[dados_violencia_2022['Tentado/Consumado'] == 'CONSUMADO']\n",
    "\n",
    "dados_violencia_tentados_2022 = dados_violencia_2022[dados_violencia_2022['Tentado/Consumado'] == 'TENTADO']\n",
    "\n",
    "dados_violencia_consumados_2023 = dados_violencia_2023[dados_violencia_2023['Tentado/Consumado'] == 'CONSUMADO']\n",
    "\n",
    "dados_violencia_tentados_2023 = dados_violencia_2023[dados_violencia_2023['Tentado/Consumado'] == 'TENTADO']\n",
    "\n",
    "feminicidio_tentado_2022 = dados_feminicidio_2022[dados_feminicidio_2022['Tentado/Consumado'] == 'TENTADO']\n",
    "\n",
    "feminicidio_consumado_2022 = dados_feminicidio_2022[dados_feminicidio_2022['Tentado/Consumado'] == 'CONSUMADO']\n",
    "\n",
    "feminicidio_tentado_2023 = dados_feminicidio_2023[dados_feminicidio_2023['Tentado/Consumado'] == 'TENTADO']\n",
    "\n",
    "feminicidio_consumado_2023 = dados_feminicidio_2023[dados_feminicidio_2023['Tentado/Consumado'] == 'CONSUMADO']\n"
   ]
  },
  {
   "cell_type": "code",
   "execution_count": 6,
   "metadata": {},
   "outputs": [],
   "source": [
    "total_vitimas_consumados_2022 = dados_violencia_consumados_2022.groupby(['Natureza do Delito'])['Quantidade de Vítimas'].sum().reset_index()\n",
    "\n",
    "total_vitimas_tentados_2022 = dados_violencia_tentados_2022.groupby(['Natureza do Delito'])['Quantidade de Vítimas'].sum().reset_index()\n",
    "\n",
    "total_vitimas_consumados_2023 = dados_violencia_consumados_2023.groupby(['Natureza do Delito', 'Mês'])['Quantidade de Vítimas'].sum().reset_index()\n",
    "\n",
    "total_vitimas_tentados_2023 = dados_violencia_tentados_2023.groupby(['Natureza do Delito', 'Mês'])['Quantidade de Vítimas'].sum().reset_index()\n",
    "\n",
    "feminicidio_consumado_2022 = feminicidio_consumado_2022.groupby(['Município'])['Quantidade de Vítimas'].sum().reset_index()\n",
    "\n",
    "feminicidio_tentado_2022 = feminicidio_tentado_2022.groupby(['Município'])['Quantidade de Vítimas'].sum().reset_index()\n",
    "\n",
    "feminicidio_consumado_2023 = feminicidio_consumado_2023.groupby(['Município'])['Quantidade de Vítimas'].sum().reset_index()\n",
    "\n",
    "feminicidio_tentado_2023 = feminicidio_tentado_2023.groupby(['Município'])['Quantidade de Vítimas'].sum().reset_index()\n"
   ]
  },
  {
   "cell_type": "code",
   "execution_count": 7,
   "metadata": {},
   "outputs": [],
   "source": [
    "cidades_feminicidio_consumado_2023 = feminicidio_consumado_2023[feminicidio_consumado_2023['Quantidade de Vítimas'] > 2]\n",
    "\n",
    "cidades_feminicidio_consumado_2022 = feminicidio_consumado_2022[feminicidio_consumado_2022['Quantidade de Vítimas'] > 2]\n",
    "\n",
    "cidades_feminicidio_tentado_2023 = feminicidio_tentado_2023[feminicidio_tentado_2023['Quantidade de Vítimas'] > 2]\n",
    "\n",
    "cidades_feminicidio_tentado_2022 = feminicidio_tentado_2022[feminicidio_tentado_2022['Quantidade de Vítimas'] > 2]\n",
    "\n",
    "total_vitimas_consumados_2022.to_excel('Vitimas Consumado 2022.xlsx')\n",
    "total_vitimas_consumados_2023.to_excel('Vitimas Consumado 2023.xlsx')\n",
    "\n",
    "total_vitimas_tentados_2022.to_excel('Vitimas Tentado 2022.xlsx')\n",
    "total_vitimas_tentados_2023.to_excel('Vitimas Tentado 2023.xlsx')\n",
    "\n",
    "cidades_feminicidio_consumado_2022.to_excel('Cidades Feminicidio Consumado 2022.xlsx')\n",
    "cidades_feminicidio_consumado_2023.to_excel('Cidades Feminicidio Consumado 2023.xlsx')\n",
    "\n",
    "cidades_feminicidio_tentado_2022.to_excel('Cidades Feminicidio Tentado 2022.xlsx')\n",
    "cidades_feminicidio_tentado_2023.to_excel('Cidades Feminicidio Tentado 2023.xlsx')\n"
   ]
  }
 ],
 "metadata": {
  "kernelspec": {
   "display_name": "Python 3",
   "language": "python",
   "name": "python3"
  },
  "language_info": {
   "codemirror_mode": {
    "name": "ipython",
    "version": 3
   },
   "file_extension": ".py",
   "mimetype": "text/x-python",
   "name": "python",
   "nbconvert_exporter": "python",
   "pygments_lexer": "ipython3",
   "version": "3.10.11"
  },
  "orig_nbformat": 4
 },
 "nbformat": 4,
 "nbformat_minor": 2
}
